{
 "cells": [
  {
   "cell_type": "markdown",
   "id": "436d6036-870a-4179-99dc-d6cc74945953",
   "metadata": {},
   "source": [
    "# INTPBD3 ASSIGNMENT"
   ]
  },
  {
   "cell_type": "markdown",
   "id": "912d6352-b71b-45b6-9d77-05df5fae3533",
   "metadata": {},
   "source": [
    "My website of choice for the assignment is:\n",
    "- [Airbnb](https://www.airbnb.co.uk/) https://www.airbnb.co.uk/"
   ]
  },
  {
   "cell_type": "markdown",
   "id": "c4435807-4469-4501-afae-12d07a87f99b",
   "metadata": {},
   "source": [
    "## About Airbnb"
   ]
  },
  {
   "cell_type": "markdown",
   "id": "e41ff606-67ea-4d8d-9bd9-430b2a7ff7ce",
   "metadata": {},
   "source": [
    "Airbnb is a short term rental marketplace that connects people looking for short term stays with property owners who are willing to have them. Owners post details of their property such as photos, specifications, and rules. A user will register onto the platform by sharing their personal and payment information with Airbnb. Once registered, users can look for a place they like, and once they find it, they will book for a specific date and pay. "
   ]
  },
  {
   "cell_type": "markdown",
   "id": "ae5bcf99-f9f9-46e6-aaf7-eabf9ef5c3f1",
   "metadata": {},
   "source": [
    "As a startup founded in 2008, they knew they needed scalability in their database design because being global was one of their targets. Flexibility is also important for such a company so they can introduce more services along the way such as Airbnb experiences."
   ]
  },
  {
   "cell_type": "markdown",
   "id": "6c399074-0537-484d-af38-dcb12dc36136",
   "metadata": {},
   "source": [
    "## Relational Design"
   ]
  },
  {
   "cell_type": "markdown",
   "id": "ac80c443-1002-4861-bac6-5691d07994c6",
   "metadata": {},
   "source": [
    "The first thing to consider is usually which kind of database to use. Engineers will have to choose between a relational and a NoSQL design. In the case of Airbnb, there is data that fits in well with a relational design, which we will discuss later, and some that is uniquely suited to a NoSQL type of database."
   ]
  },
  {
   "cell_type": "markdown",
   "id": "8403edea-a109-436a-b10f-1c90906e6ad6",
   "metadata": {},
   "source": [
    "Once an engineer has settled on a relational database design based on the kind of data the company will be storing. The first question becomes which relational/SQL database to use."
   ]
  },
  {
   "cell_type": "markdown",
   "id": "3df37467-66bb-4882-b0e5-c7d4bd49247e",
   "metadata": {},
   "source": [
    "As a startup where money is a problem, an open source SQL database is the way to go. We eliminate two major players in the closed source SQL database space: Microsoft SQL Server and Oracle Database."
   ]
  },
  {
   "cell_type": "markdown",
   "id": "f67f5817-4e9b-4b08-8d26-dee4c8e6ff93",
   "metadata": {},
   "source": [
    "The open source relational database space has two key players: MySQL and PostgresSQL. Here is a summary of key differences as discussed by [AWS blog](https://aws.amazon.com/compare/the-difference-between-mysql-vs-postgresql/)."
   ]
  },
  {
   "cell_type": "markdown",
   "id": "26e179c8-1958-49b5-a09c-57e95d3242d9",
   "metadata": {},
   "source": [
    "|MySQL|PostgresSQL|\n",
    "|:--------------------|:---------------------------|\n",
    "|No Multiversion Concurrency Control(MVCC)|Has MVCC|\n",
    "|Supports B-tree and R-tree indexing|Indexing includes:trees, expression indexes, partial indexes, and hash indexes|\n",
    "|Pure relational database|Object-relational database|\n",
    "|Supports views|Views with more advanced options|\n",
    "|Can call stored procedures in SQL|Can call stored procedures in other languages|\n",
    "|Can only use AFTER and BEFORE triggers for SQL INSERT, UPDATE, and DELETE statements|Supports the INSTEAD OF trigger, so you can run complex SQL statements using functions|"
   ]
  },
  {
   "cell_type": "markdown",
   "id": "3573296a-c034-4e50-952c-05703d0f72b3",
   "metadata": {},
   "source": [
    "PostgresSQL seems to have overall better features but a startup trying to move fast and break things may want to go with the option that is easiest to get started and recruit from; that is MySQL."
   ]
  },
  {
   "cell_type": "markdown",
   "id": "c420f25a-90cb-4f74-a5fd-8114077c37e5",
   "metadata": {},
   "source": [
    "For our use case, it doesn't matter which of the two the organization chooses because we are designing the website at a high level and we are not yet concerned with features like the kinds of indexing supported. Let's say they do settle on MySQL, how do they proceed?"
   ]
  },
  {
   "cell_type": "markdown",
   "id": "17dfba8f-1d1c-4521-9145-b76ed3841e06",
   "metadata": {},
   "source": [
    "### Entities"
   ]
  },
  {
   "cell_type": "markdown",
   "id": "0d3410ed-8573-4110-9ca0-96ef46c6f855",
   "metadata": {},
   "source": [
    "The evident entities that Airbnb has that would fit in a tabular structure include:\n",
    "1. Users (both customers and owners)\n",
    "    - Customers and owners share a lot of attributes. It is also possible for an owner to be a tenant while on vacation.\n",
    "2. Bookings\n",
    "3. Payments\n",
    "\n",
    "Consider each column in the table as representing an ER diagram. They are connected by signs showing  their cardinality."
   ]
  },
  {
   "cell_type": "markdown",
   "id": "434f3ac0-d4ff-4f18-9c05-d2c57dd436a4",
   "metadata": {},
   "source": [
    "|Users||Bookings||Payments|\n",
    "|:----|:-----|:-----|:-----|:-----|\n",
    "|First_Name|1 - - - - - m|Property_ID|1 - - - - - 1|User_ID|\n",
    "|Last_Name||Date_of_Booking||Payment_Method|\n",
    "|Email||User_ID||Date_of_Payment|\n",
    "|Is_Owner||Receipt_ID||Amount|\n",
    "|Is_Customer||End_Date_of_Booking||Booking_ID|\n",
    "|ID_Number||Booking_ID||Payment_Instrument_Expiration_Date|\n",
    "|Phone_Number||||Billing_Postcode|\n",
    "|Postal_Address||||Payment_ID|\n",
    "|DOB|||||\n",
    "|Profile_Photo_URL|||||\n",
    "|User_ID|||||\n",
    "||||||"
   ]
  },
  {
   "cell_type": "markdown",
   "id": "74b6f6c4-44d8-4137-a7dd-b63bcdbee2f2",
   "metadata": {},
   "source": [
    "- The `Users` and `Bookings` table have a cardinality of one-to-many; a user can make many bookings in their lifetime.\n",
    "- `Users` and `Payments` have a one-to-many relationship too because by going on many trips, a user will make many payments.\n",
    "- `Bookings` and `Payments` tables have a one-to-one relationship; each booking has one payment and a payment is meant for one booking."
   ]
  },
  {
   "cell_type": "markdown",
   "id": "2000521a-4bfa-41c7-ba16-1f32d4ee8f02",
   "metadata": {},
   "source": [
    "Each entity has a set of attributes that we will use when describing the table's schema."
   ]
  },
  {
   "cell_type": "markdown",
   "id": "d3ee3695-cc42-49b8-8db8-6751e41a012d",
   "metadata": {},
   "source": [
    "### `Users` Schema"
   ]
  },
  {
   "cell_type": "markdown",
   "id": "22bee211-a62e-468c-a7fc-e8d179b77252",
   "metadata": {},
   "source": [
    "|Field|Data Type||\n",
    "|:---|:---|:---|\n",
    "|First_Name|CHAR(50)||\n",
    "|Last_Name|CHAR(50)||\n",
    "|Email|CHAR(70)||\n",
    "|Is_Owner|BOOL||\n",
    "|Is_Customer|BOOL||\n",
    "|ID_Number|CHAR(50)||\n",
    "|Phone_Number|CHAR(50)||\n",
    "|Postal_Address|CHAR(200)||\n",
    "|Post_Code|CHAR(20)||\n",
    "|DOB|DATETIME||\n",
    "|Password|CHAR(50)||\n",
    "|Profile_Photo_URL|CHAR(200)||\n",
    "|User_ID|CHAR(20)|PRIMARY KEY|"
   ]
  },
  {
   "cell_type": "markdown",
   "id": "fc46df1a-0b19-4e19-a12d-b3d3ed75a947",
   "metadata": {},
   "source": [
    "### `Bookings` Schema"
   ]
  },
  {
   "cell_type": "markdown",
   "id": "e65b9294-f7e8-4d2b-a492-809b4dd6058a",
   "metadata": {},
   "source": [
    "|Field|Data Type||\n",
    "|:---|:---|:---|\n",
    "|Booking_ID|CHAR(20)|PRIMARY KEY|\n",
    "|Date_of_Booking|DATETIME||\n",
    "|End_Date_of_Booking|DATETIME||\n",
    "|User_ID|CHAR(20)|FOREIGN KEY|\n",
    "|Property_ID|CHAR(20)|FOREIGN KEY|"
   ]
  },
  {
   "cell_type": "markdown",
   "id": "5843f291-a81f-4831-8b11-ebf5a65aae06",
   "metadata": {},
   "source": [
    "### `Payments` Schema"
   ]
  },
  {
   "cell_type": "markdown",
   "id": "b8fe453e-39c6-4e36-85ce-e0eaed156dcf",
   "metadata": {},
   "source": [
    "|Field|Data Type||\n",
    "|:---|:---|:---|\n",
    "|Payment_Method|CHAR(30)||\n",
    "|Date_of_Payment|DATETIME||\n",
    "|Amount|DECIMAL(8,2)||\n",
    "|Billing_Postcode|CHAR(10)||\n",
    "|Payment_ID|CHAR(20)|PRIMARY KEY|\n",
    "|Payment_Instrument_Expiration_Date|DATETIME||\n",
    "|Booking_ID|CHAR(20)|FOREIGN KEY|\n",
    "|User_ID|CHAR(20)|FOREIGN KEY|\n"
   ]
  },
  {
   "cell_type": "markdown",
   "id": "6689b5cc-3d6c-476e-a33e-b5bcaaa2cdcb",
   "metadata": {},
   "source": [
    "### Queries"
   ]
  },
  {
   "cell_type": "markdown",
   "id": "c6f381d7-a452-4d7e-a91e-3e3254daaf27",
   "metadata": {},
   "source": [
    "With the schemas displayed above we have an idea of how the tables are represented in the database. We need queries to retrieve data from the database and some of the expected queries are:\n",
    "1. When the user attemps to log into the website, we have to verify their password. We retrieve the password hash stored in their row by finding their email.\n",
    "   - `SELECT Password FROM Users WHERE Email = \"useremail@example.com\";`\n",
    "\n",
    "2. Once the user has successfully logged, they can navigate to their dashboard where they can access their personal details. We retrieve all the users personal details by using the query:\n",
    "   - `SELECT * FROM Users WHERE Email = \"useremail@example.com\";` or `SELECT * FROM Users WHERE User_ID = \"unique_user_id\";`\n",
    "\n",
    "3. We may also want to show a user the upcoming bookings they have. We filter out past bookings.\n",
    "   - `SELECT * FROM Bookings WHERE User_ID = \"unique_user_id\" and Date_of_Travel > (SELECT CURDATE());`\n",
    "  \n",
    "4. Lastly, a user may want to see dates when they booked and the payments between a specific time interval..\n",
    "   - `SELECT Date_of_Booking, Amount FROM Bookings INNER JOIN Payments on Bookings.Booking_ID = Payments.Booking_ID WHERE Date_of_Booking > \"example-start-date\" AND End_Date_of_Booking <= \"example-end-date\" AND User_ID = \"unique_user_id\"`"
   ]
  },
  {
   "cell_type": "markdown",
   "id": "11c929b6-61b1-422b-bd18-27ea74793ddf",
   "metadata": {},
   "source": [
    "## Non-Relational Design / NoSQL Design"
   ]
  },
  {
   "cell_type": "markdown",
   "id": "2b367394-f509-4802-9626-334a2d2ad3c0",
   "metadata": {},
   "source": [
    "Properties in Airbnb are the entity type that requires the most flexibility in their schema. Each property has multiple reviews about it that are unique to it. A NoSQL database like MongoDB allows us to store this information in an array of documents. Each property also has images that are unique to it. Instead of having a table in MySQL with image urls and a foreign key pointing to the property, it is far easier in MongoDB to have an array of strings, where the strings are the url or an array of documents if we wish to store more than urls. \n",
    "\n",
    "Booking destinations have different features. For us to store the information that one property has a swimming pool while another doesn't in MySQL, we would need columns of a Boolean data type. We would also have to create a new column everytime the company decides to track a new feature. This would make the property table very wide over time. In MongoDB, we simply use an array of strings with each string being the feature that is available.\n",
    "\n",
    "For us to store the kind of data required to describe a property in SQL databases, we would need multiple tables. This in turn means more complicated queries or multiple queries. With MongoDB we get all of a property's information from a single query."
   ]
  },
  {
   "cell_type": "markdown",
   "id": "c4af7831-8dc0-477b-b405-830d56e7b3e6",
   "metadata": {},
   "source": [
    "### `Properties` Model"
   ]
  },
  {
   "cell_type": "markdown",
   "id": "8ef67634-1c22-4ccb-82df-7734012a91d9",
   "metadata": {},
   "source": [
    "```\n",
    "reviews_model = {\n",
    "    comment: String,\n",
    "    date: Date,\n",
    "    rating: Integer,\n",
    "    user_ID: ObjectID\n",
    "}\n",
    "\n",
    "photos_model = {\n",
    "    url: String,\n",
    "    mimeType: String,\n",
    "    imagePosition: Integer\n",
    "}\n",
    "\n",
    "properties_model = {\n",
    "    title: String,\n",
    "    write_up: String,\n",
    "    location: String,\n",
    "    owner_ID: ObjectId, # User_ID\n",
    "    reviews: [reviews_model],\n",
    "    photos: [photos_model],\n",
    "    features: [String]\n",
    "    price: Decimal128,\n",
    "    bedrooms: Integer\n",
    "}\n",
    "```"
   ]
  },
  {
   "cell_type": "markdown",
   "id": "1e081e34-b46f-4268-bfb8-fd5e937af2e6",
   "metadata": {},
   "source": [
    "To define the property model, we first create the `reviews_model` and the `photos_model` because each is an embedded document in the `properties_model`.\n",
    "\n",
    "With MongoDB, you don't have to specify the number of characters per key. It simply takes strings and doesn't care about the length. It also generates its own objectID value which is guaranteed to be unique so we don't have to worry about what the primary key is and how we'll make it unique."
   ]
  },
  {
   "cell_type": "markdown",
   "id": "7c24d4f8-c90b-4d73-9bce-c28f3d787b2a",
   "metadata": {},
   "source": [
    "#### Example"
   ]
  },
  {
   "cell_type": "markdown",
   "id": "7b33e148-8ba9-4413-a08d-3a0f838d8a37",
   "metadata": {},
   "source": [
    "```\n",
    "{\n",
    "    title: \"Cosy treehouse in the Shire\",\n",
    "    write_up: \"Located in a quiet surreal village of middle earth. The Baggins welcome you to our lovely home.\",\n",
    "    location: \"Shire, Middle Earth\",\n",
    "    owner_ID: ObjectID(\"12356\"),\n",
    "    price: Decimal128(\"10.99\"),\n",
    "    bedrooms: 2,\n",
    "    photos: [\n",
    "        {\n",
    "            url: \"https://example.com/photos/123.jpeg\",\n",
    "            mimeType: \"image/mpeg\",\n",
    "            imagePosition: 1\n",
    "        },\n",
    "        {\n",
    "            url: \"https://example.com/photos.124.webp\",\n",
    "            mimeType: \"image/webp\"\n",
    "        }\n",
    "    ],\n",
    "    reviews: [\n",
    "        {\n",
    "            comment: \"Had fun at the house, even found a ring in the garden.\",\n",
    "            date: ISODate('2024-03-26T18:08:42.013Z'),\n",
    "            rating: 5,\n",
    "            user_ID: ObjectId(\"12356\")\n",
    "        },\n",
    "        {\n",
    "            comment: \"Very lovely place other than the awkward visit from an old man called Gandalf.\",\n",
    "            date: ISODate('2024-02-12T18:08:42.013Z'),\n",
    "            rating: 4,\n",
    "            user_ID: ObjectID(\"12379\")\n",
    "\n",
    "        }\n",
    "    ]\n",
    "}\n",
    "```"
   ]
  },
  {
   "cell_type": "markdown",
   "id": "ac9bcfb3-c1c0-409c-ab80-30c8127a5d7f",
   "metadata": {},
   "source": [
    "### `Users` Model"
   ]
  },
  {
   "cell_type": "markdown",
   "id": "79cf1914-b86d-4e61-b431-376e8fe47254",
   "metadata": {},
   "source": [
    "```\n",
    "users_model = {\n",
    "    first_name: String,\n",
    "    last_name: String,\n",
    "    email: String,\n",
    "    is_owner: Boolean,\n",
    "    is_customer: Boolean,\n",
    "    ID_number: String,\n",
    "    phone_number: String,\t\n",
    "    postal_address:\tString,\t\n",
    "    post_code: String,\n",
    "    DOB: Date,\n",
    "    password: String,\n",
    "    profile_photo_URL: String\n",
    "}\n",
    "```"
   ]
  },
  {
   "cell_type": "markdown",
   "id": "0f801a5b-7dde-49aa-b436-3f14293e677e",
   "metadata": {},
   "source": [
    "#### Example"
   ]
  },
  {
   "cell_type": "markdown",
   "id": "860cee6f-17e8-4cdf-bb94-045b37155b3f",
   "metadata": {},
   "source": [
    "```\n",
    "{\n",
    "    first_name: \"Bilbo\",\n",
    "    last_name: \"Baggins\",\n",
    "    email: \"bilbobaggins@thehobbit.com\",\n",
    "    is_owner: true,\n",
    "    is_customer: true,\n",
    "    ID_number: \"SHIR345HOB234\",\n",
    "    phone_number: \"07123 456 789\",\n",
    "    postal_address: \"Middle Earth\",\n",
    "    post_code: \"LOTR ING\",\n",
    "    DOB: ISODate('1001-12-01T00:01:15.000Z'),\n",
    "    password: \"examplepasswordhash\",\n",
    "    profile_photo_URL: \"https://thehobbit.com/bilbobaggins.jpeg\",\n",
    "}\n",
    "```"
   ]
  },
  {
   "cell_type": "markdown",
   "id": "dc851501-0960-493a-bb7b-8d70f3bae9a8",
   "metadata": {},
   "source": [
    "### `Bookings` Model"
   ]
  },
  {
   "cell_type": "markdown",
   "id": "9f15e781-0cfc-4cb4-9f99-f3d9991b4ad7",
   "metadata": {},
   "source": [
    "```\n",
    "bookings_model = {\n",
    "    date_of_booking: Date,\t\n",
    "    end_date_of_booking: Date,\t\n",
    "    user_ID: ObjectId,\n",
    "    property_ID: ObjectId\n",
    "}\n",
    "```\n"
   ]
  },
  {
   "cell_type": "markdown",
   "id": "69049b2f-476b-4aee-9720-071fe564673e",
   "metadata": {},
   "source": [
    "#### Example"
   ]
  },
  {
   "cell_type": "markdown",
   "id": "de011c46-6fcf-4f2b-8c21-9f5c32c7dd14",
   "metadata": {},
   "source": [
    "```\n",
    "{\n",
    "    date_of_booking: ISODate('2024-02-29T00:00:00.000Z'),\n",
    "    end_date_of_booking: ISODATE('2024-03-10T00:00:00.000Z'),\n",
    "    user_ID: ObjectId('1234'),\n",
    "    property_ID: ObjectId('6789')\n",
    "}\n",
    "```"
   ]
  },
  {
   "cell_type": "markdown",
   "id": "e46179b8-3db0-48c0-b603-5291ef046ba7",
   "metadata": {},
   "source": [
    "### `Payments` Model"
   ]
  },
  {
   "cell_type": "markdown",
   "id": "d2eaffff-734a-4ed2-a9fe-fa0816edffaf",
   "metadata": {},
   "source": [
    "```\n",
    "payments_model = {\n",
    "    payment_method: String\t\n",
    "    date_of_payment: Date,\t\n",
    "    amount: Decimal128,\n",
    "    billing_postcode: String,\n",
    "    payment_instrument_expiration_date:\tdate,\t\n",
    "    booking_ID: ObjectId,\n",
    "    user_ID: ObjectId\n",
    "}\n",
    "```"
   ]
  },
  {
   "cell_type": "markdown",
   "id": "27d8f4e6-5d06-4cb3-abdd-9e3427c03ecd",
   "metadata": {},
   "source": [
    "#### Example"
   ]
  },
  {
   "cell_type": "code",
   "execution_count": null,
   "id": "5b4db188-45de-4645-8b45-f9ddba53a288",
   "metadata": {},
   "outputs": [],
   "source": [
    "```\n",
    "{\n",
    "    payment_method: \"card\",\n",
    "    date_of_payment: ISODate('2024-02-27T00:00:00.000Z')\n",
    "    amount: Decimal128(\"79.99\"),\n",
    "    billing_postcode: \"FK9 4LA\",\n",
    "    payment_instrument_expiration_date:\n",
    "}\n",
    "```"
   ]
  },
  {
   "cell_type": "markdown",
   "id": "86cf994b-a7c7-4650-8797-ef3417e53356",
   "metadata": {},
   "source": [
    "We have now introduced the `Properties` entity type and converted the ones we had to MongoDB models. We create relationships between the collections by creating a key in the documents whose value is the `_id` of the document we are referring to. It serves as the \"foreign key\". That way, the relationships are quite similar to MySQL relationships."
   ]
  },
  {
   "cell_type": "markdown",
   "id": "b97367cd-519c-4c4f-b434-5a40b0efe4e5",
   "metadata": {},
   "source": [
    "### Queries"
   ]
  },
  {
   "cell_type": "markdown",
   "id": "a92d0664-b650-470e-9f36-2047ba840777",
   "metadata": {},
   "source": [
    "1. One of the more common queries to expect from users is a query to show properties between a certain price range. Let's say we want to find the properties that cost between £100 to £300 per night.\n",
    "   - `db.properties.find({ price: {$gt: 100, $lt: 300} })`\n",
    "  \n",
    "2. As the user is browsing for property, they only see a few details about many properties in the results page. To avoid returning unnecessary data to the user and having a heavier payload, we omit the keys we won't use in the results page or list the ones we want. Furthermore, we may want to return 10 properties per page. Let's build on the previous query.\n",
    "\n",
    "   - `db.properties.find({ price: {$gte: 100, $lte: 300} }, { price: 1, photos: 1, location: 1, reviews: 1 }).limit(10)`\n",
    "  \n",
    "3. Let's take it a step further. Remember the `reviews` key is an array of of documents. On the results page, the user doesn't need to see all the reviews, they want to see the average rating of the properties. We could do some server-side computations to calculate the average rating from the reviews return but we can also use aggregation in MongoDB to do that.\n",
    "\n",
    "   - `\n",
    "     db.properties.aggregate([{$match: {price: {$gte: 100, $lte: 300 }}}, {$project: {price: 1, photos: 1, location: 1, \"average_rating\"{$avg: {$map: {input: \"$reviews\", as: \"review\", in: \"$$review.rating\"}}}}}])\n",
    "     `\n",
    "   - An aggregation pipeline is grouped into stages where operations are performed on the data. The first stage, where we use `$match`, is to filter based on price. Our second stage in the pipeline is `$project`. The general purpose of this stage is to specify what fields to return. We specify that we would like to return the `average_rating` and we specify how to compute it. To get this value, we use `$map` which applies a routine to an array an returns another array. Here we take the embedded documents inside the `reviews` key and return the ratings. Lastly, we calculate the average using `$avg` operator to find the average.\n",
    "  \n",
    "4. A property owner may want to look at all the properties they have and revise the prices or for any other reason. If they have logged in, and we have their `user_id` e.g. `1234`, how do we get their user and property information in one query?\n",
    "\n",
    "   - `db.users.aggregate([\n",
    "         {$match: {_id: ObjectId(\"1234\")}}, {$lookup: {from: \"properties\", localField: \"_id\", foreignField: \"owner_ID\", as: \"properties\"}}\n",
    "     ])`\n",
    "    - What the above line of code does is it first matches a user based on their unique identifier. Once we have that user, we then look for all the properties they own in the `properties` collection. We do this by looking for properties whose `owner_ID` is the same as the user's id."
   ]
  },
  {
   "cell_type": "markdown",
   "id": "fc8171d0-1048-414c-b93d-29e5c8b17de1",
   "metadata": {},
   "source": []
  },
  {
   "cell_type": "markdown",
   "id": "917d17d3-9a25-4e01-9aa3-8105c9dac956",
   "metadata": {},
   "source": [
    "Considerations\n",
    "- What to do about booking dates to avoid them clashing\n",
    "- "
   ]
  },
  {
   "cell_type": "markdown",
   "id": "fc482824-8621-4784-8b66-e45d79e27420",
   "metadata": {},
   "source": [
    "## References\n",
    "\n",
    "- MySQL Datatypes - https://dev.mysql.com/doc/refman/8.3/en/data-types.html\n",
    "- MongoDB Datatypes - https://www.mongodb.com/docs/manual/reference/bson-types/\n",
    "- MongoDB Aggregation Pipelines - https://www.mongodb.com/docs/manual/reference/aggregation/"
   ]
  },
  {
   "cell_type": "code",
   "execution_count": null,
   "id": "6d3304b1-0bfa-4038-a528-03beb93f9553",
   "metadata": {},
   "outputs": [],
   "source": []
  }
 ],
 "metadata": {
  "kernelspec": {
   "display_name": "data-manipulation-class-assignment",
   "language": "python",
   "name": "data-manipulation-class-assignment"
  },
  "language_info": {
   "codemirror_mode": {
    "name": "ipython",
    "version": 3
   },
   "file_extension": ".py",
   "mimetype": "text/x-python",
   "name": "python",
   "nbconvert_exporter": "python",
   "pygments_lexer": "ipython3",
   "version": "3.10.12"
  }
 },
 "nbformat": 4,
 "nbformat_minor": 5
}
