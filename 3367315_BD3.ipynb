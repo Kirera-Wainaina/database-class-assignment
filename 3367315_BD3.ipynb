{
 "cells": [
  {
   "cell_type": "markdown",
   "id": "436d6036-870a-4179-99dc-d6cc74945953",
   "metadata": {},
   "source": [
    "# INTPBD3 ASSIGNMENT"
   ]
  },
  {
   "cell_type": "markdown",
   "id": "912d6352-b71b-45b6-9d77-05df5fae3533",
   "metadata": {},
   "source": [
    "My website of choice for the assignment is:\n",
    "- [Airbnb](https://www.airbnb.co.uk/) https://www.airbnb.co.uk/"
   ]
  },
  {
   "cell_type": "markdown",
   "id": "c4435807-4469-4501-afae-12d07a87f99b",
   "metadata": {},
   "source": [
    "## About Airbnb"
   ]
  },
  {
   "cell_type": "markdown",
   "id": "e41ff606-67ea-4d8d-9bd9-430b2a7ff7ce",
   "metadata": {},
   "source": [
    "Airbnb is a short term rental marketplace that connects people looking for short term stays with property owners who are willing to have them. Owners post details of their property such as photos, specifications, and rules. A user will register onto the platform by sharing their personal and payment information with Airbnb. Once registered, users can look for a place they like, and once they find it, they will book for a specific date and pay. "
   ]
  },
  {
   "cell_type": "markdown",
   "id": "ae5bcf99-f9f9-46e6-aaf7-eabf9ef5c3f1",
   "metadata": {},
   "source": [
    "As a startup founded in 2008, they knew they needed scalability in their database design because being global was one of their targets. Flexibility is also important for such a company so they can introduce more services along the way such as Airbnb experiences."
   ]
  },
  {
   "cell_type": "markdown",
   "id": "6c399074-0537-484d-af38-dcb12dc36136",
   "metadata": {},
   "source": [
    "## Relational Design"
   ]
  },
  {
   "cell_type": "markdown",
   "id": "ac80c443-1002-4861-bac6-5691d07994c6",
   "metadata": {},
   "source": [
    "The first thing to consider is usually which kind of database to use. Engineers will have to choose between a relational and a NoSQL design. In the case of Airbnb, there is data that fits in well with a relational design, which we will discuss later, and some that is uniquely suited to a NoSQL type of database."
   ]
  },
  {
   "cell_type": "markdown",
   "id": "8403edea-a109-436a-b10f-1c90906e6ad6",
   "metadata": {},
   "source": [
    "Once an engineer has settled on a relational database design based on the kind of data the company will be storing. The first question becomes which relational/SQL database to use."
   ]
  },
  {
   "cell_type": "markdown",
   "id": "3df37467-66bb-4882-b0e5-c7d4bd49247e",
   "metadata": {},
   "source": [
    "As a startup where money is a problem, an open source SQL database is the way to go. We eliminate two major players in the closed source SQL database space: Microsoft SQL Server and Oracle Database."
   ]
  },
  {
   "cell_type": "markdown",
   "id": "f67f5817-4e9b-4b08-8d26-dee4c8e6ff93",
   "metadata": {},
   "source": [
    "The open source relational database space has two key players: MySQL and PostgresSQL. Here is a summary of key differences as discussed by [AWS blog](https://aws.amazon.com/compare/the-difference-between-mysql-vs-postgresql/)."
   ]
  },
  {
   "cell_type": "markdown",
   "id": "26e179c8-1958-49b5-a09c-57e95d3242d9",
   "metadata": {},
   "source": [
    "|MySQL|PostgresSQL|\n",
    "|:--------------------|:---------------------------|\n",
    "|No Multiversion Concurrency Control(MVCC)|Has MVCC|\n",
    "|Supports B-tree and R-tree indexing|Indexing includes:trees, expression indexes, partial indexes, and hash indexes|\n",
    "|Pure relational database|Object-relational database|\n",
    "|Supports views|Views with more advanced options|\n",
    "|Can call stored procedures in SQL|Can call stored procedures in other languages|\n",
    "|Can only use AFTER and BEFORE triggers for SQL INSERT, UPDATE, and DELETE statements|Supports the INSTEAD OF trigger, so you can run complex SQL statements using functions|"
   ]
  },
  {
   "cell_type": "markdown",
   "id": "3573296a-c034-4e50-952c-05703d0f72b3",
   "metadata": {},
   "source": [
    "PostgresSQL seems to have overall better features but a startup trying to move fast and break things may want to go with the option that is easiest to get started and recruit from; that is MySQL."
   ]
  },
  {
   "cell_type": "markdown",
   "id": "c420f25a-90cb-4f74-a5fd-8114077c37e5",
   "metadata": {},
   "source": [
    "For our use case, it doesn't matter which of the two the organization chooses because we are designing the website at a high level and we are not yet concerned with features like the kinds of indexing supported. Let's say they do settle on MySQL, how do they proceed?"
   ]
  },
  {
   "cell_type": "markdown",
   "id": "17dfba8f-1d1c-4521-9145-b76ed3841e06",
   "metadata": {},
   "source": [
    "### Entities"
   ]
  },
  {
   "cell_type": "markdown",
   "id": "0d3410ed-8573-4110-9ca0-96ef46c6f855",
   "metadata": {},
   "source": [
    "The evident entities that Airbnb has that would fit in a tabular structure include:\n",
    "1. Users (both customers and owners)\n",
    "    - Customers and owners share a lot of attributes. It is also possible for an owner to be a tenant while on vacation.\n",
    "2. Bookings\n",
    "3. Payments\n",
    "\n",
    "Consider each column in the table as representing an ER diagram. They are connected by signs showing  their cardinality."
   ]
  },
  {
   "cell_type": "markdown",
   "id": "434f3ac0-d4ff-4f18-9c05-d2c57dd436a4",
   "metadata": {},
   "source": [
    "|Users||Bookings||Payments|\n",
    "|:----|:-----|:-----|:-----|:-----|\n",
    "|First_Name|1 - - - - - m|Property_ID|1 - - - - - 1|User_ID|\n",
    "|Last_Name||Date_of_Booking||Payment_Method|\n",
    "|Email||User_ID||Date_of_Payment|\n",
    "|Is_Owner||Receipt_ID||Amount|\n",
    "|Is_Customer||End_Date_of_Booking||Booking_ID|\n",
    "|ID_Number||Booking_ID||Payment_Instrument_Expiration_Date|\n",
    "|Phone_Number||||Billing_Postcode|\n",
    "|Postal_Address||||Payment_ID|\n",
    "|DOB|||||\n",
    "|Profile_Photo_URL|||||\n",
    "|User_ID|||||\n",
    "||||||"
   ]
  },
  {
   "cell_type": "markdown",
   "id": "74b6f6c4-44d8-4137-a7dd-b63bcdbee2f2",
   "metadata": {},
   "source": [
    "- The `Users` and `Bookings` table have a cardinality of one-to-many; a user can make many bookings in their lifetime.\n",
    "- `Users` and `Payments` have a one-to-many relationship too because by going on many trips, a user will make many payments.\n",
    "- `Bookings` and `Payments` tables have a one-to-one relationship; each booking has one payment and a payment is meant for one booking."
   ]
  },
  {
   "cell_type": "markdown",
   "id": "2000521a-4bfa-41c7-ba16-1f32d4ee8f02",
   "metadata": {},
   "source": [
    "Each entity has a set of attributes that we will use when describing the table's schema."
   ]
  },
  {
   "cell_type": "markdown",
   "id": "d3ee3695-cc42-49b8-8db8-6751e41a012d",
   "metadata": {},
   "source": [
    "### `Users` Schema"
   ]
  },
  {
   "cell_type": "markdown",
   "id": "22bee211-a62e-468c-a7fc-e8d179b77252",
   "metadata": {},
   "source": [
    "|Field|Data Type||\n",
    "|:---|:---|:---|\n",
    "|First_Name|CHAR(50)|\n",
    "|Last_Name|CHAR(50)|\n",
    "|Email|CHAR(70)|\n",
    "|Is_Owner|BOOL|\n",
    "|Is_Customer|BOOL|\n",
    "|ID_Number|CHAR(50)|\n",
    "|Phone_Number|CHAR(50)|\n",
    "|Postal_Address|CHAR(200)|\n",
    "|Post_Code|CHAR(20)|\n",
    "|DOB|DATETIME|\n",
    "|Password|CHAR(50)|\n",
    "|Profile_Photo_URL|CHAR(200)|\n",
    "|User_ID|CHAR(20)|PRIMARY KEY|"
   ]
  },
  {
   "cell_type": "markdown",
   "id": "fc46df1a-0b19-4e19-a12d-b3d3ed75a947",
   "metadata": {},
   "source": [
    "### `Bookings` Schema"
   ]
  },
  {
   "cell_type": "markdown",
   "id": "e65b9294-f7e8-4d2b-a492-809b4dd6058a",
   "metadata": {},
   "source": [
    "|Field|Data Type||\n",
    "|:---|:---|:---|\n",
    "|Booking_ID|CHAR(20)|PRIMARY KEY|\n",
    "|Date_of_Booking|DATETIME|\n",
    "|End_Date_of_Booking|DATETIME|\n",
    "|User_ID|CHAR(20)|FOREIGN KEY|\n",
    "|Payment_ID|CHAR(20)|FOREIGN KEY|\n",
    "|Property_ID|CHAR(20)|FOREIGN KEY|"
   ]
  },
  {
   "cell_type": "markdown",
   "id": "5843f291-a81f-4831-8b11-ebf5a65aae06",
   "metadata": {},
   "source": [
    "### `Payments` Schema"
   ]
  },
  {
   "cell_type": "markdown",
   "id": "b8fe453e-39c6-4e36-85ce-e0eaed156dcf",
   "metadata": {},
   "source": [
    "|Field|Data Type||\n",
    "|:---|:---|:---|\n",
    "|Payment_Method|CHAR(30)||\n",
    "|Date_of_Payment|DATETIME||\n",
    "|Amount|DECIMAL(8,2)||\n",
    "|Billing_Postcode|CHAR(10)||\n",
    "|Payment_ID|CHAR(20)|PRIMARY KEY|\n",
    "|Payment_Instrument_Expiration_Date|DATETIME||\n",
    "|Booking_ID|CHAR(20)|FOREIGN KEY|\n",
    "|User_ID|CHAR(20)|FOREIGN KEY|\n"
   ]
  },
  {
   "cell_type": "markdown",
   "id": "c6f381d7-a452-4d7e-a91e-3e3254daaf27",
   "metadata": {},
   "source": [
    "With the schemas displayed above we have an idea of how the tables are represented in the database. We need queries to retrieve data from the database and some of the expected queries are:\n",
    "1. When the user attemps to log into the website, we have to verify their password. We retrieve the password hash stored in their row by finding their email.\n",
    "   - `SELECT Password FROM Users WHERE Email = \"useremail@example.com\";`\n",
    "\n",
    "2. Once the user has successfully logged, they can navigate to their dashboard where they can access their personal details. We retrieve all the users personal details by using the query:\n",
    "   - `SELECT * FROM Users WHERE Email = \"useremail@example.com\";` or `SELECT * FROM Users WHERE User_ID = \"unique_user_id\";`\n",
    "\n",
    "3. We may also want to show a user the upcoming bookings they have. We filter out past bookings.\n",
    "   - `SELECT * FROM Bookings WHERE User_ID = \"unique_user_id\" and Date_of_Travel > (SELECT CURDATE());`\n",
    "  \n",
    "4. Lastly, a user may want to see dates when they booked and the payments between a specific time interval..\n",
    "   - `SELECT Date_of_Booking, Amount FROM Bookings INNER JOIN Payments on Bookings.Booking_ID = Payments.Booking_ID WHERE Date_of_Booking > \"example-start-date\" AND End_Date_of_Booking <= \"example-end-date\" AND User_ID = \"unique_user_id\"`"
   ]
  },
  {
   "cell_type": "markdown",
   "id": "11c929b6-61b1-422b-bd18-27ea74793ddf",
   "metadata": {},
   "source": [
    "## Non-Relational Design / NoSQL Design"
   ]
  },
  {
   "cell_type": "markdown",
   "id": "2b367394-f509-4802-9626-334a2d2ad3c0",
   "metadata": {},
   "source": [
    "Properties in Airbnb are the entities that require the most flexibility in their schema. Each property has multiple reviews about it that are unique to it. A NoSQL database like MongoDB allows us to store this information in an array of objects. Each property also has images that are unique to it. Instead of having a table in MySQL with image urls and a foreign key pointing to the property, it is far easier in MongoDB to have an array of strings, where the strings are the url or an array of objects if we wish to store more than urls. \n",
    "\n",
    "Booking destinations have different features. For us to store the information that one property has a swimming pool while another doesn't in MySQL, we would need columns of a Boolean data type. We would also have to create a new column everytime the company decides to track a new feature. This would make the property table very wide over time.\n",
    "\n",
    "For us to store the kind of data required to describe a property in SQL databases, we would need multiple tables. This in turn means more complicated queries or multiple queries. With MongoDB we get all of a property's information from a single query."
   ]
  },
  {
   "cell_type": "markdown",
   "id": "c4af7831-8dc0-477b-b405-830d56e7b3e6",
   "metadata": {},
   "source": [
    "### `Properties` Model"
   ]
  },
  {
   "cell_type": "markdown",
   "id": "8ef67634-1c22-4ccb-82df-7734012a91d9",
   "metadata": {},
   "source": [
    "```\n",
    "reviews_model = {\n",
    "    comment: String,\n",
    "    date: Date\n",
    "}\n",
    "\n",
    "photos_model = {\n",
    "    url: String,\n",
    "    mimeType: String,\n",
    "    imagePosition: Integer\n",
    "}\n",
    "\n",
    "properties_model = {\n",
    "    title: String,\n",
    "    write_up: String,\n",
    "    location: String,\n",
    "    owner_ID: String, # User_ID\n",
    "    reviews: [reviews_model],\n",
    "    photos: [photos_model],\n",
    "    features: [String]\n",
    "}\n",
    "```"
   ]
  },
  {
   "cell_type": "markdown",
   "id": "1e081e34-b46f-4268-bfb8-fd5e937af2e6",
   "metadata": {},
   "source": [
    "To define the property model, we first create the `reviews_model` and the `photos_model` because they are sub-collections of the `properties_model`.\n",
    "\n",
    "With MongoDB, you don't have to specify the number of characters per key. It simply takes strings and doesn't care about the length. It also generates its own objectID value which is guaranteed to be unique so we don't have to worry about what the primary key is and how we'll make it unique."
   ]
  },
  {
   "cell_type": "markdown",
   "id": "ac9bcfb3-c1c0-409c-ab80-30c8127a5d7f",
   "metadata": {},
   "source": [
    "### `Users` Model"
   ]
  },
  {
   "cell_type": "markdown",
   "id": "79cf1914-b86d-4e61-b431-376e8fe47254",
   "metadata": {},
   "source": [
    "```\n",
    "users_model = {\n",
    "    first_name: String,\n",
    "    last_name: String,\n",
    "    email: String,\n",
    "    is_owner: Boolean,\n",
    "    is_customer: Boolean,\n",
    "    ID_number: String,\n",
    "    phone_number: String,\t\n",
    "    postal_address:\tString,\t\n",
    "    post_code: String,\n",
    "    DOB: Date,\n",
    "    password: String,\n",
    "    profile_photo_URL: String,\t\n",
    "}\n",
    "```"
   ]
  },
  {
   "cell_type": "markdown",
   "id": "dc851501-0960-493a-bb7b-8d70f3bae9a8",
   "metadata": {},
   "source": [
    "### `Bookings` Model"
   ]
  },
  {
   "cell_type": "code",
   "execution_count": null,
   "id": "7a4593e2-ac45-4029-8bf7-677f6b21f18a",
   "metadata": {},
   "outputs": [],
   "source": []
  },
  {
   "cell_type": "markdown",
   "id": "fc8171d0-1048-414c-b93d-29e5c8b17de1",
   "metadata": {},
   "source": [
    "NoSQL entities - Property, Reviews. Property has reviews, features, photos, availability"
   ]
  },
  {
   "cell_type": "markdown",
   "id": "917d17d3-9a25-4e01-9aa3-8105c9dac956",
   "metadata": {},
   "source": [
    "Considerations\n",
    "- What to do about booking dates to avoid them clashing\n",
    "- "
   ]
  },
  {
   "cell_type": "markdown",
   "id": "fc482824-8621-4784-8b66-e45d79e27420",
   "metadata": {},
   "source": [
    "## References\n",
    "\n",
    "- MySQL Datatypes - https://dev.mysql.com/doc/refman/8.3/en/data-types.html\n",
    "- MongoDB Datatypes - https://www.mongodb.com/docs/manual/reference/bson-types/"
   ]
  },
  {
   "cell_type": "code",
   "execution_count": null,
   "id": "6d3304b1-0bfa-4038-a528-03beb93f9553",
   "metadata": {},
   "outputs": [],
   "source": []
  }
 ],
 "metadata": {
  "kernelspec": {
   "display_name": "data-manipulation-class-assignment",
   "language": "python",
   "name": "data-manipulation-class-assignment"
  },
  "language_info": {
   "codemirror_mode": {
    "name": "ipython",
    "version": 3
   },
   "file_extension": ".py",
   "mimetype": "text/x-python",
   "name": "python",
   "nbconvert_exporter": "python",
   "pygments_lexer": "ipython3",
   "version": "3.10.12"
  }
 },
 "nbformat": 4,
 "nbformat_minor": 5
}
