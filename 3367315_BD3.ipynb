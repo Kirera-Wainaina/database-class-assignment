{
 "cells": [
  {
   "cell_type": "markdown",
   "id": "436d6036-870a-4179-99dc-d6cc74945953",
   "metadata": {},
   "source": [
    "# INTPBD3 ASSIGNMENT"
   ]
  },
  {
   "cell_type": "markdown",
   "id": "912d6352-b71b-45b6-9d77-05df5fae3533",
   "metadata": {},
   "source": [
    "My website of choice for the assignment is:\n",
    "- [Airbnb](https://www.airbnb.co.uk/) https://www.airbnb.co.uk/"
   ]
  },
  {
   "cell_type": "markdown",
   "id": "c4435807-4469-4501-afae-12d07a87f99b",
   "metadata": {},
   "source": [
    "## About Airbnb"
   ]
  },
  {
   "cell_type": "markdown",
   "id": "e41ff606-67ea-4d8d-9bd9-430b2a7ff7ce",
   "metadata": {},
   "source": [
    "Airbnb is a short term rental marketplace that connects people looking for short term stays with property owners who are willing to have them. Owners post details of their property such as photos, specifications, and rules. A user will register onto the platform by sharing their personal and payment information with Airbnb. Once registered, users can look for a place they like, and once they find it, they will book for a specific date and pay. "
   ]
  },
  {
   "cell_type": "markdown",
   "id": "ae5bcf99-f9f9-46e6-aaf7-eabf9ef5c3f1",
   "metadata": {},
   "source": [
    "As a startup founded in 2008, they knew they needed scalability in their database design because being global was one of their targets. Flexibility is also important for such a company so they can introduce more services along the way such as Airbnb experiences."
   ]
  },
  {
   "cell_type": "markdown",
   "id": "6c399074-0537-484d-af38-dcb12dc36136",
   "metadata": {},
   "source": [
    "## Relational Design"
   ]
  },
  {
   "cell_type": "markdown",
   "id": "ac80c443-1002-4861-bac6-5691d07994c6",
   "metadata": {},
   "source": [
    "The first thing to consider is usually which kind of database to use. Engineers will have to choose between a relational and a NoSQL design. In the case of Airbnb, there is data that fits in well with a relational design, which we will discuss later, and some that is uniquely suited to a NoSQL type of database."
   ]
  },
  {
   "cell_type": "markdown",
   "id": "8403edea-a109-436a-b10f-1c90906e6ad6",
   "metadata": {},
   "source": [
    "Once an engineer has settled on a relational database design based on the kind of data the company will be storing. The first question becomes which relational/SQL database to use."
   ]
  },
  {
   "cell_type": "markdown",
   "id": "3df37467-66bb-4882-b0e5-c7d4bd49247e",
   "metadata": {},
   "source": [
    "As a startup where money is a problem, an open source SQL database is the way to go. We eliminate two major players in the closed source SQL database space: Microsoft SQL Server and Oracle Database."
   ]
  },
  {
   "cell_type": "markdown",
   "id": "f67f5817-4e9b-4b08-8d26-dee4c8e6ff93",
   "metadata": {},
   "source": [
    "The open source relational database space has two key players: MySQL and PostgresSQL. Here is a summary of key differences as discussed by [AWS blog](https://aws.amazon.com/compare/the-difference-between-mysql-vs-postgresql/)."
   ]
  },
  {
   "cell_type": "markdown",
   "id": "26e179c8-1958-49b5-a09c-57e95d3242d9",
   "metadata": {},
   "source": [
    "|MySQL|PostgresSQL|\n",
    "|:--------------------|:---------------------------|\n",
    "|No Multiversion Concurrency Control(MVCC)|Has MVCC|\n",
    "|Supports B-tree and R-tree indexing|Indexing includes:trees, expression indexes, partial indexes, and hash indexes|\n",
    "|Pure relational database|Object-relational database|\n",
    "|Supports views|Views with more advanced options|\n",
    "|Can call stored procedures in SQL|Can call stored procedures in other languages|\n",
    "|Can only use AFTER and BEFORE triggers for SQL INSERT, UPDATE, and DELETE statements|Supports the INSTEAD OF trigger, so you can run complex SQL statements using functions|"
   ]
  },
  {
   "cell_type": "markdown",
   "id": "3573296a-c034-4e50-952c-05703d0f72b3",
   "metadata": {},
   "source": [
    "PostgresSQL seems to have overall better features but a startup trying to move fast and break things may want to go with the option that is easiest to get started and recruit from; that is MySQL."
   ]
  },
  {
   "cell_type": "markdown",
   "id": "c420f25a-90cb-4f74-a5fd-8114077c37e5",
   "metadata": {},
   "source": [
    "For our use case, it doesn't matter which of the two the organization chooses because we are designing the website at a high level and we are not yet concerned with features like the kinds of indexing supported. Let's say they do settle on MySQL, how do they proceed?"
   ]
  },
  {
   "cell_type": "markdown",
   "id": "17dfba8f-1d1c-4521-9145-b76ed3841e06",
   "metadata": {},
   "source": [
    "### Entities"
   ]
  },
  {
   "cell_type": "markdown",
   "id": "0d3410ed-8573-4110-9ca0-96ef46c6f855",
   "metadata": {},
   "source": [
    "The evident entities that Airbnb has that would fit in a tabular structure include:\n",
    "1. Users (both customers and owners)\n",
    "    - Customers and owners share a lot of attributes. It is also possible for an owner to be a tenant while on vacation.\n",
    "2. Trips\n",
    "3. Transactions\n",
    "\n",
    "We will now create an ER diagram connecting these tables."
   ]
  },
  {
   "cell_type": "markdown",
   "id": "434f3ac0-d4ff-4f18-9c05-d2c57dd436a4",
   "metadata": {},
   "source": [
    "|Users||Trips||Transactions|\n",
    "|:----|:-----|:-----|:-----|:-----|\n",
    "|First Name|1 - - - - - m|Property_ID|1 - - - - - 1|User_ID|\n",
    "|Last Name||Date_of_Travel||Payment_Method|\n",
    "|Email||User_ID||Date_Time|\n",
    "|Is_Owner||Receipt_ID||Amount|\n",
    "|Is_Customer||||Trip_ID|\n",
    "|ID_Number||||Payment_Instrument_Expiration_Date|\n",
    "|Phone_number||||Billing_Postcode|\n",
    "|Postal_Address|||||\n",
    "|DOB|||||\n",
    "|Profile_Photo_URL|||||\n",
    "|User_ID|||||"
   ]
  },
  {
   "cell_type": "code",
   "execution_count": null,
   "id": "126db4a0-12ea-4a60-bd34-d06097d1fccf",
   "metadata": {},
   "outputs": [],
   "source": []
  },
  {
   "cell_type": "markdown",
   "id": "fc8171d0-1048-414c-b93d-29e5c8b17de1",
   "metadata": {},
   "source": [
    "NoSQL entities - Property, Reviews"
   ]
  },
  {
   "cell_type": "code",
   "execution_count": null,
   "id": "313c8074-8ed3-4c99-a1fe-55bad9510310",
   "metadata": {},
   "outputs": [],
   "source": []
  }
 ],
 "metadata": {
  "kernelspec": {
   "display_name": "data-manipulation-class-assignment",
   "language": "python",
   "name": "data-manipulation-class-assignment"
  },
  "language_info": {
   "codemirror_mode": {
    "name": "ipython",
    "version": 3
   },
   "file_extension": ".py",
   "mimetype": "text/x-python",
   "name": "python",
   "nbconvert_exporter": "python",
   "pygments_lexer": "ipython3",
   "version": "3.10.12"
  }
 },
 "nbformat": 4,
 "nbformat_minor": 5
}
